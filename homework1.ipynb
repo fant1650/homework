{
 "cells": [
  {
   "cell_type": "markdown",
   "id": "4c2a3c4e-1185-46d3-8301-ef3703a406a6",
   "metadata": {},
   "source": [
    "#1.编写Python程序，打印\"数据科学与工程导论\"，并使用 print(chr(0x2605)) 语句将星星包围起来。"
   ]
  },
  {
   "cell_type": "code",
   "execution_count": 3,
   "id": "9a30f925-166b-4b0e-8b12-54ca1cd13316",
   "metadata": {},
   "outputs": [
    {
     "name": "stdout",
     "output_type": "stream",
     "text": [
      " ★★★★★★★★★ \n",
      "★数据科学与工程导论★\n",
      " ★★★★★★★★★ \n"
     ]
    }
   ],
   "source": [
    "print(' ',end='')\n",
    "for i in range(9):\n",
    "    print(chr(0x2605),end='')\n",
    "print(' ')\n",
    "print(chr(0x2605),\"数据科学与工程导论\",chr(0x2605),sep='')\n",
    "print(' ',end='')\n",
    "for i in range(9):\n",
    "    print(chr(0x2605),end='')\n",
    "print(' ')"
   ]
  },
  {
   "cell_type": "markdown",
   "id": "c0626500-18d5-4c0c-8c61-c5766098fe0a",
   "metadata": {},
   "source": [
    "#2.写一个 Python 程序，输入 x, y, z 这三个数，将这三个数从小到大使用 print 函数打印出来。"
   ]
  },
  {
   "cell_type": "code",
   "execution_count": 8,
   "id": "62256a1e-bee6-4539-b985-22cd9cdd06dd",
   "metadata": {},
   "outputs": [
    {
     "name": "stdin",
     "output_type": "stream",
     "text": [
      " 5 3 6\n"
     ]
    },
    {
     "name": "stdout",
     "output_type": "stream",
     "text": [
      "3\n",
      "5\n",
      "6\n"
     ]
    }
   ],
   "source": [
    "msg=input().split()\n",
    "msg=[int(i) for i in msg]\n",
    "msg.sort()\n",
    "for i in msg:\n",
    "    print(i)"
   ]
  },
  {
   "cell_type": "markdown",
   "id": "6afe6dd5-4c8e-40f5-8755-5fd4379e1e17",
   "metadata": {},
   "source": [
    "#写一个 Python 程序，有 w, x, y, z 四个数，将这四个数从大到小使用 print 函数打印出来。"
   ]
  },
  {
   "cell_type": "code",
   "execution_count": 9,
   "id": "c6612002-9e0e-429f-ab20-d018ab0bfb29",
   "metadata": {},
   "outputs": [
    {
     "name": "stdin",
     "output_type": "stream",
     "text": [
      " 1 2 3 4\n"
     ]
    },
    {
     "name": "stdout",
     "output_type": "stream",
     "text": [
      "4\n",
      "3\n",
      "2\n",
      "1\n"
     ]
    }
   ],
   "source": [
    "msg=input().split()\n",
    "msg=[int(i) for i in msg]\n",
    "msg.sort(reverse=True)\n",
    "for i in msg:\n",
    "    print(i)"
   ]
  },
  {
   "cell_type": "markdown",
   "id": "3a904d29-712d-4575-b61d-29f210c71887",
   "metadata": {},
   "source": [
    "#写一个 Python 程序，输出 1-100 中的所有奇数。"
   ]
  },
  {
   "cell_type": "code",
   "execution_count": 11,
   "id": "c30cb6af-81e6-4547-b4da-f0ff076e849a",
   "metadata": {},
   "outputs": [
    {
     "name": "stdout",
     "output_type": "stream",
     "text": [
      "1 3 5 7 9 11 13 15 17 19 21 23 25 27 29 31 33 35 37 39 41 43 45 47 49 51 53 55 57 59 61 63 65 67 69 71 73 75 77 79 81 83 85 87 89 91 93 95 97 99 "
     ]
    }
   ],
   "source": [
    "for i in range(1,101):\n",
    "    if i%2==1:\n",
    "        print(i,end=' ')"
   ]
  },
  {
   "cell_type": "markdown",
   "id": "c69cb6bc-e11c-4f64-b1bb-3c70ec155de9",
   "metadata": {},
   "source": [
    "#写一个 Python 程序，用 for 循环，求解 1 到 100 的和。"
   ]
  },
  {
   "cell_type": "code",
   "execution_count": 12,
   "id": "854a92cc-1c73-4df1-9d11-dd40a7091d0d",
   "metadata": {},
   "outputs": [
    {
     "name": "stdout",
     "output_type": "stream",
     "text": [
      "5050\n"
     ]
    }
   ],
   "source": [
    "res=0\n",
    "for i in range(1,101):\n",
    "    res+=i\n",
    "print(res)"
   ]
  },
  {
   "cell_type": "markdown",
   "id": "2fb95fc2-c4cf-49aa-a86b-4188245b680a",
   "metadata": {},
   "source": [
    "#写一个 Python 程序，分别用 for 和 while 循环实现对一个给定序列的倒排序输出。例如，给定 L=[1,2,3,4,5]，输出为 [5,4,3,2,1]。"
   ]
  },
  {
   "cell_type": "code",
   "execution_count": 14,
   "id": "06e9ba0b-5bc8-432b-b7ba-9de0d526f0ea",
   "metadata": {},
   "outputs": [
    {
     "name": "stdout",
     "output_type": "stream",
     "text": [
      "5\n",
      "4\n",
      "3\n",
      "2\n",
      "1\n"
     ]
    }
   ],
   "source": [
    "L=[1,2,3,4,5]\n",
    "for i in L[::-1]:\n",
    "    print(i)"
   ]
  },
  {
   "cell_type": "markdown",
   "id": "ad7efcbf-086a-4bff-af5b-d9218de3c7dc",
   "metadata": {},
   "source": [
    "#写一个 Python 程序，判断一个输入的字符串 S 是否包含由两个或两个以上连续出现的相同字符组成的字符串。例如，abccccda 中就包含 cccc 这个由 4 个连续字符组成的字符串。"
   ]
  },
  {
   "cell_type": "code",
   "execution_count": 17,
   "id": "7bdb924f-93c2-430e-bb94-882e55d24d75",
   "metadata": {},
   "outputs": [
    {
     "name": "stdin",
     "output_type": "stream",
     "text": [
      " 1234563\n"
     ]
    },
    {
     "name": "stdout",
     "output_type": "stream",
     "text": [
      "True\n"
     ]
    }
   ],
   "source": [
    "from collections import Counter\n",
    "s=input()\n",
    "c=Counter(s)\n",
    "j=0\n",
    "for i in c.values():\n",
    "    if i>1:\n",
    "        print(\"True\")\n",
    "        j=1\n",
    "        break\n",
    "if j==0:\n",
    "    print(\"False\")"
   ]
  },
  {
   "cell_type": "markdown",
   "id": "730d767a-3851-492d-b0ba-6a762136ad52",
   "metadata": {},
   "source": [
    "#写一个 Python 程序，输入一个字符串 S，去掉其中所有的空格后输出。例如，“DataScience and Engineering”，去掉空格后为“DataScienceandEngineering”。"
   ]
  },
  {
   "cell_type": "code",
   "execution_count": 20,
   "id": "d8b28935-fae2-40aa-979d-74b8cdfcc620",
   "metadata": {},
   "outputs": [
    {
     "name": "stdin",
     "output_type": "stream",
     "text": [
      " abd aie oaw\n"
     ]
    },
    {
     "name": "stdout",
     "output_type": "stream",
     "text": [
      "abdaieoaw\n"
     ]
    }
   ],
   "source": [
    "s=input()\n",
    "s=s.replace(' ','')\n",
    "print(s)"
   ]
  },
  {
   "cell_type": "markdown",
   "id": "255ea631-e635-43c6-9768-73676e121539",
   "metadata": {},
   "source": [
    "#请设计一个求 3 次方根的算法（不允许直接调用求方根的函数），并给出对应的 Python 程序。 采用牛顿迭代法求解，迭代过程数学公式表示为： \n"
   ]
  },
  {
   "cell_type": "code",
   "execution_count": null,
   "id": "8c57bf05-d08a-43b2-a9ea-a6041d6ac8ad",
   "metadata": {},
   "outputs": [],
   "source": [
    "a=input()\n",
    "a=int(a)\n",
    "x0=a\n",
    "x1=0\n",
    "e0=0.001\n",
    "e=10\n",
    "while e>e0:\n",
    "    x1=(2*x0**3+a)/(3*x0**2)\n",
    "    e=x1-x0\n",
    "    x0=x1\n",
    "print(x1)"
   ]
  },
  {
   "cell_type": "markdown",
   "id": "83a2487a-6b2f-47cc-934c-ca2aa5ea992b",
   "metadata": {},
   "source": [
    "#写一个 Python 程序，给定一个常数 n（n>0），求 n 的阶乘，即 n!=1×2×...×(n-1)×n。例如，4!=24，5!=120。"
   ]
  },
  {
   "cell_type": "code",
   "execution_count": 24,
   "id": "c538d245-7859-4e8c-ab2d-3e87e4ee79a4",
   "metadata": {},
   "outputs": [
    {
     "name": "stdin",
     "output_type": "stream",
     "text": [
      " 4\n"
     ]
    },
    {
     "name": "stdout",
     "output_type": "stream",
     "text": [
      "24\n"
     ]
    }
   ],
   "source": [
    "n=int(input())\n",
    "res=1\n",
    "for i in range(2,n+1):\n",
    "    res*=i\n",
    "print(res)"
   ]
  }
 ],
 "metadata": {
  "kernelspec": {
   "display_name": "Python 3 (ipykernel)",
   "language": "python",
   "name": "python3"
  },
  "language_info": {
   "codemirror_mode": {
    "name": "ipython",
    "version": 3
   },
   "file_extension": ".py",
   "mimetype": "text/x-python",
   "name": "python",
   "nbconvert_exporter": "python",
   "pygments_lexer": "ipython3",
   "version": "3.12.6"
  }
 },
 "nbformat": 4,
 "nbformat_minor": 5
}
