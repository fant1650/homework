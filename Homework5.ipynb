{
 "cells": [
  {
   "cell_type": "markdown",
   "metadata": {},
   "source": [
    "0. 所有的题目结果中，给出SQL语句和执行结果。"
   ]
  },
  {
   "cell_type": "markdown",
   "metadata": {},
   "source": [
    "1. 在新数据库中新建一张 user 表,插入几条数据,属性包含:唯一标识(id),姓名(name)性别(sex).年龄(age).联系方式(phone)，数据如下：\n",
    "\n",
    "    ('John Doe', 'Male', 25, '123-456-7890')\n",
    "\n",
    "    ('Jane Smith', 'Female', 31, '987-654-3210')\n",
    "    \n",
    "    ('Bob Johnson', 'Male', 22, '555-123-4567')"
   ]
  },
  {
   "cell_type": "code",
   "execution_count": 1,
   "metadata": {},
   "outputs": [],
   "source": [
    "import pymysql\n",
    "\n",
    "db = pymysql.connect(host='localhost',\n",
    "                     user='root',\n",
    "                     password='Lyh15806137705',\n",
    "                     database='platform')\n",
    "\n",
    "cursor = db.cursor()\n",
    "sql = '''CREATE TABLE USER\n",
    "(\n",
    "    ID   INT AUTO_INCREMENT PRIMARY KEY,\n",
    "    name VARCHAR(50) NOT NULL,\n",
    "    sex VARCHAR(20),\n",
    "    age INT,\n",
    "    phone VARCHAR(20)\n",
    ");'''\n",
    "\n",
    "cursor.execute(sql)\n",
    "sql1 = (\"INSERT INTO USER(name, age, phone) values('john Doe', 'Male', 25, '123-456-7890'), ('Jane Smith', 'Female', \"\n",
    "        \"31, '987-654-3210'), ('Bob Johnson', 'Male', 22, '555-123-4567');\")\n",
    "\n",
    "try:\n",
    "    cursor.execute(sql1)\n",
    "    db.commit()\n",
    "except:\n",
    "    db.rollback()"
   ]
  },
  {
   "cell_type": "markdown",
   "metadata": {},
   "source": [
    "2. 写出 SQL语句,查询 user 表中所有年龄在 20-30 范围内的用户"
   ]
  },
  {
   "cell_type": "code",
   "execution_count": 4,
   "metadata": {},
   "outputs": [],
   "source": [
    "sql = \"SELECT name FROM USER WHERE AGE BETWEEN 20 AND 30\"\n",
    "\n",
    "try:\n",
    "   cursor.execute(sql)\n",
    "   results = cursor.fetchall()\n",
    "   for row in results:\n",
    "      print(row)\n",
    "except:\n",
    "   print (\"Error: unable to fetch data\")\n"
   ]
  },
  {
   "cell_type": "markdown",
   "metadata": {},
   "source": [
    "3. 写出SQL语句，向user表中添加自己的个人信息，并添加几条和你姓名同姓的虚拟信息。"
   ]
  },
  {
   "cell_type": "code",
   "execution_count": 5,
   "metadata": {},
   "outputs": [],
   "source": [
    "sql = (\"INSERT INTO USER(name, age, sex, phone) VALUES('刘耀辉', 19, '15151458836'), ('刘志国', 1, '11111111111'), ('刘翔', 2, \"\n",
    "       \"'22222222222');\")\n",
    "try:\n",
    "    cursor.execute(sql)\n",
    "    db.commit()\n",
    "except:\n",
    "    db.rollback()"
   ]
  },
  {
   "cell_type": "markdown",
   "metadata": {},
   "source": [
    "4. 写出 SQL语句,查询 user 表中年龄在 20-30 范围内,名字包含“你的姓氏”的用户,并按照年龄从大到小排序输出"
   ]
  },
  {
   "cell_type": "code",
   "execution_count": 6,
   "metadata": {},
   "outputs": [],
   "source": [
    "sql = \"SELECT name FROM USER WHERE name LIKE '刘%' AND (age BETWEEN 20 and 30) ORDER BY age DESC\"\n",
    "\n",
    "try:\n",
    "    cursor.execute(sql)\n",
    "    results = cursor.fetchall()\n",
    "    for row in results:\n",
    "        print(row)\n",
    "except:\n",
    "    print(\"Error: unable to fetch data\")"
   ]
  },
  {
   "cell_type": "markdown",
   "metadata": {},
   "source": [
    "5. 写出 SQL 语句,计算 user 表中所有用户的平均年龄"
   ]
  },
  {
   "cell_type": "code",
   "execution_count": null,
   "metadata": {},
   "outputs": [],
   "source": [
    "sql = \"SELECT AVG(age) FROM USER\"\n",
    "\n",
    "try:\n",
    "    cursor.execute(sql)\n",
    "    results = cursor.fetchall()\n",
    "    for row in results:\n",
    "        print(row)\n",
    "except:\n",
    "    print(\"Error: unable to fetch data\")"
   ]
  },
  {
   "cell_type": "markdown",
   "metadata": {},
   "source": [
    "6. 新建两张表team 表(id,teamName)和score 表(id,teamid,userid,score)。其中score 表中的 teamid 为指向 team表id 的外键，userid 为指向 user表id的外键"
   ]
  },
  {
   "cell_type": "code",
   "execution_count": null,
   "metadata": {},
   "outputs": [],
   "source": [
    "sql = '''\n",
    "CREATE TABLE team(\n",
    "    id INT PRIMARY KEY AUTO_INCREMENT,\n",
    "    teamname VARCHAR(50)\n",
    ");\n",
    "\n",
    "CREATE TABLE score(\n",
    "    id INT PRIMARY KEY  AUTO_INCREMENT,\n",
    "    teamid INT,\n",
    "    userid INT,\n",
    "    score INT,\n",
    "    FOREIGN KEY(teamid) REFERENCES team(id) ON UPDATE CASCADE ON DELETE CASCADE\n",
    ")'''\n",
    "cursor.execute(sql)\n"
   ]
  },
  {
   "cell_type": "markdown",
   "metadata": {},
   "source": [
    "7. 在team表中和score表中插入合适的记录，写出 SQL语句,查询 teamName 为“ECNU”的队伍中，年龄小于 20 的用户们，结果不得为空。"
   ]
  },
  {
   "cell_type": "code",
   "execution_count": null,
   "metadata": {},
   "outputs": [],
   "source": [
    "sql = '''\n",
    "SELECT score.userid FROM score INNER JOIN team ON score.teamid = team.id WHERE score.userid <20 AND team.teamname='ECNU';'''\n",
    "try:\n",
    "    cursor.execute(sql)\n",
    "    results = cursor.fetchall()\n",
    "    for row in results:\n",
    "        print(row)\n",
    "except:\n",
    "    print(\"Error: unable to fetch data\")"
   ]
  },
  {
   "cell_type": "markdown",
   "metadata": {},
   "source": [
    "8. 写出 SQL 语句,计算 teamName为“ECNU”的总分(假设 score 存在 null值,nul值默认为 0 加入计算)。"
   ]
  },
  {
   "cell_type": "code",
   "execution_count": null,
   "metadata": {},
   "outputs": [],
   "source": [
    "sql = ''''\n",
    "SELECT SUM(COALESCE(score.score, 0)) FROM score INNER JOIN team on score.teamid = team.id WHERE team.teamname='ECNU';'''\n",
    "try:\n",
    "    cursor.execute(sql)\n",
    "    results = cursor.fetchall()\n",
    "    for row in results:\n",
    "        print(row)\n",
    "except:\n",
    "    print(\"Error: unable to fetch data\")"
   ]
  },
  {
   "cell_type": "markdown",
   "metadata": {},
   "source": [
    "9. 写出SQL语句，删除user表中个人信息的记录。"
   ]
  },
  {
   "cell_type": "code",
   "execution_count": null,
   "metadata": {},
   "outputs": [],
   "source": [
    "sql = \"TRUNCATE TABLE user\"\n",
    "cursor.execute(sql)\n",
    "db.close()"
   ]
  }
 ],
 "metadata": {
  "kernelspec": {
   "display_name": "Python 3 (ipykernel)",
   "language": "python",
   "name": "python3"
  },
  "language_info": {
   "codemirror_mode": {
    "name": "ipython",
    "version": 3
   },
   "file_extension": ".py",
   "mimetype": "text/x-python",
   "name": "python",
   "nbconvert_exporter": "python",
   "pygments_lexer": "ipython3",
   "version": "3.12.6"
  }
 },
 "nbformat": 4,
 "nbformat_minor": 4
}
