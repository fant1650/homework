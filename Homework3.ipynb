{
 "cells": [
  {
   "cell_type": "markdown",
   "metadata": {},
   "source": [
    "1.编写 Python程序,判断输入a是否为质数"
   ]
  },
  {
   "cell_type": "code",
   "execution_count": 3,
   "metadata": {},
   "outputs": [
    {
     "name": "stdin",
     "output_type": "stream",
     "text": [
      " 4\n"
     ]
    },
    {
     "name": "stdout",
     "output_type": "stream",
     "text": [
      "False\n"
     ]
    }
   ],
   "source": [
    "import math\n",
    "x = int(input())\n",
    "j=1\n",
    "for i in range(2,x):\n",
    "    if x%i==0:\n",
    "        j=0\n",
    "if j==0:\n",
    "    print(False)\n",
    "else:\n",
    "    print(True)"
   ]
  },
  {
   "cell_type": "markdown",
   "metadata": {},
   "source": [
    "2.用Python实现插入排序该算法，不允许直接调用插入排序函数，需要手动实现其逻辑过程。"
   ]
  },
  {
   "cell_type": "code",
   "execution_count": 8,
   "metadata": {},
   "outputs": [
    {
     "name": "stdin",
     "output_type": "stream",
     "text": [
      " 8 2 3 5 1 \n"
     ]
    },
    {
     "name": "stdout",
     "output_type": "stream",
     "text": [
      "[1, 2, 3, 5, 8]\n"
     ]
    }
   ],
   "source": [
    "l = [int(i) for i in input().split()]\n",
    "t=len(l)\n",
    "for i in range(1,t):\n",
    "    for j in range(0,i):\n",
    "        if l[i]<l[j]:\n",
    "            m = l[i]\n",
    "            l[i] = l[j]\n",
    "            l[j] = m\n",
    "print(l)"
   ]
  },
  {
   "cell_type": "markdown",
   "metadata": {},
   "source": [
    "3.用Python实现选择排序该算法，不允许直接调用插入排序函数，需要手动实现其逻辑过程。"
   ]
  },
  {
   "cell_type": "code",
   "execution_count": 9,
   "metadata": {},
   "outputs": [
    {
     "name": "stdin",
     "output_type": "stream",
     "text": [
      " 9 7 5 3 1\n"
     ]
    },
    {
     "name": "stdout",
     "output_type": "stream",
     "text": [
      "[1, 3, 5, 7, 9]\n"
     ]
    }
   ],
   "source": [
    "l = [int(i) for i in input().split()]\n",
    "for i in range(0,len(l)):\n",
    "    m = 1000000000\n",
    "    index = -1\n",
    "    for j in range(i,len(l)):\n",
    "        if l[j]<m:\n",
    "            m = l[j]\n",
    "            index = j\n",
    "    t = l[i]\n",
    "    l[i] = m\n",
    "    l[index] = t\n",
    "print(l)"
   ]
  },
  {
   "cell_type": "markdown",
   "metadata": {},
   "source": [
    "4.用Python实现快速排序该算法，不允许直接调用插入排序函数，需要手动实现其逻辑过程。"
   ]
  },
  {
   "cell_type": "markdown",
   "metadata": {},
   "source": [
    "5.使用 Python 随机生成三组长度递增的随机数列，长度分别为100、1000、10000，对生成的随机数组使用不同的排序算法，例如选择排序和归并排序，至少三种排序方法。对这些数列的数据排序，并分析不同排序算法在不同长度数列下的运行效果，例如运行时间等指标。"
   ]
  },
  {
   "cell_type": "code",
   "execution_count": 25,
   "metadata": {},
   "outputs": [
    {
     "name": "stdout",
     "output_type": "stream",
     "text": [
      "[1, 3, 3, 3, 3, 4, 6, 6, 9, 9, 10, 11, 12, 13, 13, 14, 14, 15, 15, 16, 16, 17, 18, 19, 19, 22, 23, 24, 25, 27, 28, 28, 29, 30, 31, 36, 38, 38, 41, 42, 44, 45, 47, 47, 48, 48, 50, 50, 50, 52, 53, 54, 57, 57, 57, 58, 59, 60, 61, 63, 66, 66, 66, 67, 69, 70, 71, 71, 72, 72, 73, 73, 74, 75, 76, 77, 79, 80, 80, 81, 82, 84, 87, 88, 89, 89, 90, 91, 92, 94, 95, 96, 97, 97, 98, 98, 98, 99, 100, 101]\n",
      "0.0020172595977783203\n",
      "[1, 3, 3, 3, 3, 4, 6, 6, 9, 9, 10, 11, 12, 13, 13, 14, 14, 15, 15, 16, 16, 17, 18, 19, 19, 22, 23, 24, 25, 27, 28, 28, 29, 30, 31, 36, 38, 38, 41, 42, 44, 45, 47, 47, 48, 48, 50, 50, 50, 52, 53, 54, 57, 57, 57, 58, 59, 60, 61, 63, 66, 66, 66, 67, 69, 70, 71, 71, 72, 72, 73, 73, 74, 75, 76, 77, 79, 80, 80, 81, 82, 84, 87, 88, 89, 89, 90, 91, 92, 94, 95, 96, 97, 97, 98, 98, 98, 99, 100, 101]\n",
      "0.0020172595977783203\n",
      "[1, 3, 3, 3, 3, 4, 6, 6, 9, 9, 10, 11, 12, 13, 13, 14, 14, 15, 15, 16, 16, 17, 18, 19, 19, 22, 23, 24, 25, 27, 28, 28, 29, 30, 31, 36, 38, 38, 41, 42, 44, 45, 47, 47, 48, 48, 50, 50, 50, 52, 53, 54, 57, 57, 57, 58, 59, 60, 61, 63, 66, 66, 66, 67, 69, 70, 71, 71, 72, 72, 73, 73, 74, 75, 76, 77, 79, 80, 80, 81, 82, 84, 87, 88, 89, 89, 90, 91, 92, 94, 95, 96, 97, 97, 98, 98, 98, 99, 100, 101]\n",
      "0.0\n",
      "\n",
      "\n",
      "0.0010039806365966797\n",
      "0.056467533111572266\n",
      "4.6246724128723145\n"
     ]
    }
   ],
   "source": [
    "import time\n",
    "import random\n",
    "l1 = []\n",
    "l2 = []\n",
    "l3 = []\n",
    "for i in range(100):\n",
    "    l1.append(random.randint(1,101))\n",
    "for i in range(1000):\n",
    "    l2.append(random.randint(1,1001))\n",
    "for i in range(10000):\n",
    "    l3.append(random.randint(1,10001))\n",
    "def cha(l):\n",
    "    t=len(l)\n",
    "    for i in range(1,t):\n",
    "        for j in range(0,i):\n",
    "            if l[i]<l[j]:\n",
    "                m = l[i]\n",
    "                l[i] = l[j]\n",
    "                l[j] = m\n",
    "def xuan(l):\n",
    "    for i in range(0,len(l)):\n",
    "        m = 100000\n",
    "        index = -1\n",
    "        for j in range(i,len(l)):\n",
    "            if l[j]<m:\n",
    "                m = l[j]\n",
    "                index = j\n",
    "    t = l[i]\n",
    "    l[i] = m\n",
    "    l[index] = t\n",
    "def bubble(l):\n",
    "    lt = len(l)\n",
    "    for i in range(lt):\n",
    "        for j in range(0,lt-i-1):\n",
    "            if l[j]>l[j+1]:\n",
    "                l[j] = l[j]^l[j+1]\n",
    "                l[j+1] = l[j]^l[j+1]\n",
    "                l[j] = l[j]^l[j+1]\n",
    "s1 = time.time()\n",
    "bubble(l1)\n",
    "print(l1)\n",
    "e1 = time.time()\n",
    "t1 = e1-s1\n",
    "print(t1)\n",
    "\n",
    "s2 = time.time()\n",
    "xuan(l1)\n",
    "print(l1)\n",
    "e2 = time.time()\n",
    "t2 = e2-s1\n",
    "print(t1)\n",
    "\n",
    "s3 = time.time()\n",
    "cha(l1)\n",
    "print(l1)\n",
    "e3 = time.time()\n",
    "t3 = e3-s3\n",
    "print(t3)\n",
    "print()\n",
    "print()\n",
    "\n",
    "\n",
    "s4 = time.time()\n",
    "cha(l1)\n",
    "e4 = time.time()\n",
    "t4 = e4-s4\n",
    "print(t4)\n",
    "\n",
    "s5 = time.time()\n",
    "cha(l2)\n",
    "e5 = time.time()\n",
    "t5 = e5-s5\n",
    "print(t5)\n",
    "\n",
    "s6 = time.time()\n",
    "cha(l3)\n",
    "e6 = time.time()\n",
    "t6 = e6-s6\n",
    "print(t6)\n"
   ]
  },
  {
   "cell_type": "markdown",
   "metadata": {},
   "source": [
    "6.使用python代码获取当前系统时间"
   ]
  },
  {
   "cell_type": "code",
   "execution_count": 26,
   "metadata": {},
   "outputs": [
    {
     "name": "stdout",
     "output_type": "stream",
     "text": [
      "time.struct_time(tm_year=2024, tm_mon=10, tm_mday=15, tm_hour=15, tm_min=45, tm_sec=39, tm_wday=1, tm_yday=289, tm_isdst=0)\n"
     ]
    }
   ],
   "source": [
    "import time\n",
    "print(time.localtime(time.time()))"
   ]
  },
  {
   "cell_type": "markdown",
   "metadata": {},
   "source": [
    "7.homework/data文件夹下的stuGrade.csv文件中包含5位同学的学号、语文成绩、数学成绩和英语成绩，请先用记事本打开该文件，查看文件内容，然后编写Python程序，读取该文件，并计算出各科的平均成绩（保留2位小数）。"
   ]
  },
  {
   "cell_type": "code",
   "execution_count": 37,
   "metadata": {},
   "outputs": [
    {
     "name": "stdout",
     "output_type": "stream",
     "text": [
      "   stuID  chinese  math  english\n",
      "0  10381       74    87       82\n",
      "1  10382       92    88       90\n",
      "2  10383       87    82       81\n",
      "3  10384       98    97       96\n",
      "4  10385       62    51       60\n",
      "chinese    82.6\n",
      "math       81.0\n",
      "english    81.8\n",
      "dtype: float64\n"
     ]
    }
   ],
   "source": [
    "import pandas as pd\n",
    "import numpy as np\n",
    "\n",
    "fpath = r\"D:\\15249\\download\\stuGrade.csv\"\n",
    "pdata = pd.read_csv(fpath)\n",
    "print(pdata)\n",
    "average_score = pdata[['chinese', 'math', 'english']].mean()\n",
    "print(average_score)"
   ]
  },
  {
   "cell_type": "markdown",
   "metadata": {},
   "source": [
    "8.请在第7题的代码继续编写Python程序，将以下内容写入my.txt文件中，一并上传到github中。"
   ]
  },
  {
   "cell_type": "code",
   "execution_count": 41,
   "metadata": {},
   "outputs": [
    {
     "data": {
      "text/plain": [
       "41"
      ]
     },
     "execution_count": 41,
     "metadata": {},
     "output_type": "execute_result"
    }
   ],
   "source": [
    "import pandas as pd\n",
    "import numpy as np\n",
    "\n",
    "fpath = r\"D:\\15249\\download\\stuGrade.csv\"\n",
    "pdata = pd.read_csv(fpath)\n",
    "average_score = pdata[['chinese', 'math', 'english']].mean()\n",
    "fpath = r\"D:\\Coding\\project\\Git\\homework\\my.txt\"\n",
    "f = open(fpath,mode='w')\n",
    "average_score_str = \"\\n\".join(f\"{subject}: {score:.2f}\" for subject, score in average_score.items())\n",
    "f.write(average_score_str)"
   ]
  }
 ],
 "metadata": {
  "kernelspec": {
   "display_name": "Python 3 (ipykernel)",
   "language": "python",
   "name": "python3"
  },
  "language_info": {
   "codemirror_mode": {
    "name": "ipython",
    "version": 3
   },
   "file_extension": ".py",
   "mimetype": "text/x-python",
   "name": "python",
   "nbconvert_exporter": "python",
   "pygments_lexer": "ipython3",
   "version": "3.12.6"
  }
 },
 "nbformat": 4,
 "nbformat_minor": 4
}
